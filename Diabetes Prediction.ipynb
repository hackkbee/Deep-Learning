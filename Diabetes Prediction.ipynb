{
 "cells": [
  {
   "cell_type": "code",
   "execution_count": 25,
   "id": "dc4cbd25-c49c-4c1e-8bfa-f5627cdd64ab",
   "metadata": {},
   "outputs": [],
   "source": [
    "import pandas as pd\n",
    "import numpy as np\n",
    "from sklearn.model_selection import train_test_split\n",
    "from sklearn.preprocessing import StandardScaler\n",
    "\n"
   ]
  },
  {
   "cell_type": "code",
   "execution_count": 26,
   "id": "6ac51c77-c57d-46bb-9695-1cf2b1099174",
   "metadata": {},
   "outputs": [],
   "source": [
    "file = \"diabetes.csv\"\n",
    "df = pd.read_csv(file)\n",
    "\n",
    "columns_clean = ['Glucose', 'BloodPressure', 'SkinThickness', 'Insulin', 'BMI']\n"
   ]
  },
  {
   "cell_type": "code",
   "execution_count": 27,
   "id": "46392a80-e373-4ca0-be48-0a1f446f2ab7",
   "metadata": {},
   "outputs": [],
   "source": [
    "df[columns_clean] = df[columns_clean].replace(0, np.nan)\n",
    "df[columns_clean] = df[columns_clean].fillna(df[columns_clean].median())\n",
    "\n",
    "X = df.iloc[:, :-1]  \n",
    "y = df.iloc[:, -1]   \n"
   ]
  },
  {
   "cell_type": "code",
   "execution_count": 28,
   "id": "2e00c507-5d81-4864-b948-e50dd8635505",
   "metadata": {},
   "outputs": [],
   "source": [
    "\n",
    "X_train, X_test, y_train, y_test = train_test_split(X, y, test_size=0.3, random_state=42)\n",
    "\n"
   ]
  },
  {
   "cell_type": "code",
   "execution_count": 29,
   "id": "800317f4-9a58-40e9-8e1d-b666b08df9c0",
   "metadata": {},
   "outputs": [],
   "source": [
    "scaler = StandardScaler()\n",
    "X_train_scaled = scaler.fit_transform(X_train)\n",
    "X_test_scaled = scaler.transform(X_test)\n",
    "\n"
   ]
  },
  {
   "cell_type": "code",
   "execution_count": 30,
   "id": "d1af70be-8804-4d47-911d-511e981832df",
   "metadata": {},
   "outputs": [
    {
     "name": "stdout",
     "output_type": "stream",
     "text": [
      "First 5 rows of the original data after cleaning:\n",
      "   Pregnancies  Glucose  BloodPressure  SkinThickness  Insulin   BMI  \\\n",
      "0            6    148.0           72.0           35.0    125.0  33.6   \n",
      "1            1     85.0           66.0           29.0    125.0  26.6   \n",
      "2            8    183.0           64.0           29.0    125.0  23.3   \n",
      "3            1     89.0           66.0           23.0     94.0  28.1   \n",
      "4            0    137.0           40.0           35.0    168.0  43.1   \n",
      "\n",
      "   DiabetesPedigreeFunction  Age  Outcome  \n",
      "0                     0.627   50        1  \n",
      "1                     0.351   31        0  \n",
      "2                     0.672   32        1  \n",
      "3                     0.167   21        0  \n",
      "4                     2.288   33        1  \n",
      "\n",
      "First 5 rows of the scaled training data:\n",
      "   Pregnancies   Glucose  BloodPressure  SkinThickness   Insulin       BMI  \\\n",
      "0    -0.836294 -0.894546      -1.003221      -1.269545 -0.956993 -1.203826   \n",
      "1     0.390728 -0.562477      -0.019090       0.029693  2.136797  0.664498   \n",
      "2    -1.143050  0.433730      -0.347134       1.565156  1.267755  1.440571   \n",
      "3     0.083972  0.300903      -0.347134      -0.915207  0.294428  0.118373   \n",
      "4    -0.836294 -0.628891      -3.463549       1.092706 -0.667312  1.584288   \n",
      "\n",
      "   DiabetesPedigreeFunction       Age  \n",
      "0                 -0.614216 -0.948610  \n",
      "1                 -0.909738 -0.434667  \n",
      "2                 -0.306991 -0.777296  \n",
      "3                 -0.906812 -0.434667  \n",
      "4                 -0.839515 -0.006380  \n",
      "\n",
      "First 5 rows of the scaled test data:\n",
      "   Pregnancies   Glucose  BloodPressure  SkinThickness   Insulin       BMI  \\\n",
      "0     0.697483 -0.794925      -1.167243       0.502143  0.572521  0.247718   \n",
      "1    -0.529539 -0.330028       0.226943       0.384031 -0.180649  0.492037   \n",
      "2    -0.529539 -0.462856      -0.675177       0.029693 -0.180649 -0.212177   \n",
      "3     1.310994 -0.496063       0.636997       0.029693 -0.180649 -1.103224   \n",
      "4     1.004239  0.466937       1.457107       0.029693 -0.180649 -0.341522   \n",
      "\n",
      "   DiabetesPedigreeFunction       Age  \n",
      "0                 -0.116804  0.850192  \n",
      "1                 -0.941923 -1.034268  \n",
      "2                 -0.912664 -1.034268  \n",
      "3                  1.129653  0.079277  \n",
      "4                 -0.760514  1.449793  \n"
     ]
    }
   ],
   "source": [
    "print(\"First 5 rows of the original data after cleaning:\")\n",
    "print(df.head())\n",
    "\n",
    "print(\"\\nFirst 5 rows of the scaled training data:\")\n",
    "print(pd.DataFrame(X_train_scaled, columns=X.columns).head())\n",
    "\n",
    "print(\"\\nFirst 5 rows of the scaled test data:\")\n",
    "print(pd.DataFrame(X_test_scaled, columns=X.columns).head())"
   ]
  },
  {
   "cell_type": "code",
   "execution_count": 31,
   "id": "a8789e72-79f9-49f0-9123-8835c5d0fa2f",
   "metadata": {},
   "outputs": [],
   "source": [
    "from sklearn.linear_model import Perceptron\n",
    "from sklearn.metrics import accuracy_score, classification_report, confusion_matrix\n",
    "\n",
    "perceptron = Perceptron(max_iter=1000, tol=1e-3, random_state=42)\n",
    "\n"
   ]
  },
  {
   "cell_type": "code",
   "execution_count": 32,
   "id": "bd2a5ebb-ee71-4242-9616-ad37d8916312",
   "metadata": {},
   "outputs": [],
   "source": [
    "perceptron.fit(X_train_scaled, y_train)\n",
    "y_pred = perceptron.predict(X_test_scaled)"
   ]
  },
  {
   "cell_type": "code",
   "execution_count": 33,
   "id": "87190345-542a-4533-8a96-3013c38ce68b",
   "metadata": {},
   "outputs": [
    {
     "name": "stdout",
     "output_type": "stream",
     "text": [
      "Perceptron Model Accuracy: 69.70%\n"
     ]
    }
   ],
   "source": [
    "accuracy = accuracy_score(y_test, y_pred)\n",
    "print(f'Perceptron Model Accuracy: {accuracy * 100:.2f}%')"
   ]
  },
  {
   "cell_type": "code",
   "execution_count": 34,
   "id": "324a6a7f-ea4e-4510-ade4-bf9b6c9274cb",
   "metadata": {},
   "outputs": [
    {
     "name": "stdout",
     "output_type": "stream",
     "text": [
      "\n",
      "Classification Report:\n",
      "              precision    recall  f1-score   support\n",
      "\n",
      "           0       0.76      0.77      0.77       151\n",
      "           1       0.56      0.55      0.56        80\n",
      "\n",
      "    accuracy                           0.70       231\n",
      "   macro avg       0.66      0.66      0.66       231\n",
      "weighted avg       0.70      0.70      0.70       231\n",
      "\n",
      "\n",
      "Confusion Matrix:\n",
      "[[117  34]\n",
      " [ 36  44]]\n"
     ]
    }
   ],
   "source": [
    "print(\"\\nClassification Report:\")\n",
    "print(classification_report(y_test, y_pred))\n",
    "\n",
    "print(\"\\nConfusion Matrix:\")\n",
    "print(confusion_matrix(y_test, y_pred))"
   ]
  },
  {
   "cell_type": "code",
   "execution_count": 35,
   "id": "8f9ac658-4e75-439d-a2c4-0cb88d909ca4",
   "metadata": {},
   "outputs": [
    {
     "data": {
      "image/png": "[encoded data removed]",
      "text/plain": [
       "<Figure size 800x600 with 2 Axes>"
      ]
     },
     "metadata": {},
     "output_type": "display_data"
    }
   ],
   "source": [
    "import matplotlib.pyplot as plt\n",
    "import seaborn as sns\n",
    "from sklearn.metrics import confusion_matrix\n",
    "cm = confusion_matrix(y_test, y_pred)\n",
    "\n",
    "plt.figure(figsize=(8, 6))\n",
    "sns.heatmap(cm, annot=True, fmt='d', cmap='Blues', xticklabels=['No Diabetes', 'Diabetes'], yticklabels=['No Diabetes', 'Diabetes'])\n",
    "plt.xlabel('Predicted Labels')\n",
    "plt.ylabel('True Labels')\n",
    "plt.title('Confusion Matrix of Perceptron Model')\n",
    "plt.show()\n"
   ]
  },
  {
   "cell_type": "code",
   "execution_count": null,
   "id": "1d872e69-0293-410a-98a2-5cd866a34289",
   "metadata": {},
   "outputs": [],
   "source": []
  },
  {
   "cell_type": "code",
   "execution_count": null,
   "id": "8050d62e-69aa-4c57-861c-5d32d364208b",
   "metadata": {},
   "outputs": [],
   "source": []
  }
 ],
 "metadata": {
  "kernelspec": {
   "display_name": "Python 3 (ipykernel)",
   "language": "python",
   "name": "python3"
  },
  "language_info": {
   "codemirror_mode": {
    "name": "ipython",
    "version": 3
   },
   "file_extension": ".py",
   "mimetype": "text/x-python",
   "name": "python",
   "nbconvert_exporter": "python",
   "pygments_lexer": "ipython3",
   "version": "3.12.1"
  }
 },
 "nbformat": 4,
 "nbformat_minor": 5
}
